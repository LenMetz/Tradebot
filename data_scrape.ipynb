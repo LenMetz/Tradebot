{
 "cells": [
  {
   "cell_type": "code",
   "execution_count": 1,
   "id": "83f4855e-76af-4592-867f-1dad8b05f9e0",
   "metadata": {},
   "outputs": [],
   "source": [
    "import requests\n",
    "import numpy as np\n",
    "from datetime import datetime, timezone"
   ]
  },
  {
   "cell_type": "code",
   "execution_count": 2,
   "id": "4e457f5e-6b3e-495f-9b1f-1177fc7ef4aa",
   "metadata": {},
   "outputs": [],
   "source": [
    "def fetch_ohlcv(url, key):\n",
    "    headers = { \"X-CoinAPI-Key\": f\"{key}\" }  # Replace with your API key\n",
    " \n",
    "    response = requests.get(url, headers=headers)\n",
    " \n",
    "    # Check if the response is successful\n",
    "    if response.status_code == 200:\n",
    "        if response.content:\n",
    "            return response.json()\n",
    "        else:\n",
    "            print(\"Response is empty.\")\n",
    "            return None\n",
    "    else:\n",
    "        # Handle other HTTP status codes\n",
    "        print(f\"Failed to fetch data. Status code: {response.status_code}\")\n",
    "        return None"
   ]
  },
  {
   "cell_type": "code",
   "execution_count": 3,
   "id": "74bf35b6-4f9a-4304-b1c6-97ae6092b163",
   "metadata": {},
   "outputs": [],
   "source": [
    "keys = [\n",
    "    \"F8B59CCC-B902-421A-A6D1-E2769B157C94\",\n",
    "    \"46CDA826-99D7-482A-8D40-855AEF0D0BAA\",\n",
    "    \"ACF2BF76-D88D-41DC-9FC0-470DC668BD68\",\n",
    "    \"BFF4523C-4CE8-4BC8-AD95-1F46A429C35B\",\n",
    "    \"FE93F9AF-DE0A-4090-B45D-2B194320E8AE\",\n",
    "    \"ACDB03AA-EB7F-4730-A0FF-B27F5248D691\",\n",
    "    \"71C13C40-4BE5-452F-B54B-FF8C0CDEC8C6\",\n",
    "    \"E3E26230-DC30-48F1-AFDC-23DA73AD9954\",\n",
    "    \"00C66DD9-04C7-461E-BE71-A9356C708407\",\n",
    "    \"80AE8A57-6D9D-45E4-9D7A-AAA5644F09EC\",\n",
    "    \"69CC131A-E2B8-4CC9-88F0-90D39692EF27\",\n",
    "    \"6A6CD8E1-C6F7-4EEF-968D-E8A83E94CF76\",\n",
    "    \"ECB8B448-FD50-4213-8B5E-7A1FDC27C3E7\",\n",
    "    \"3558A7E8-36B5-4DE1-B080-9A0B9D83D563\",\n",
    "    \"A97F1A3D-13BC-4631-B4A8-B6A29C07A570\",\n",
    "    \"D9D1FD85-A55F-4705-BDF6-009536F0648F\",\n",
    "    \"E6532654-0BE4-42A6-A020-5BFA5475F632\",\n",
    "    \"D121A81E-BBDF-4951-A78B-28D2C125CFC1\",\n",
    "    \"73F243B6-4022-459D-B40F-0DE193FCD064\",\n",
    "    \"B60C81C4-0DFB-4F00-9B66-8CBA399B603A\",\n",
    "    \"FD05CEC8-45DE-4EFC-BD78-BF485B4D912A\",\n",
    "    \"A939101A-1908-480F-A796-3121A5849B11\",\n",
    "    \"59188915-5BCE-4E17-A605-25D59D01626C\",\n",
    "    \"92C8F755-8E42-4CE9-810A-ECB6C19CF6E0\",\n",
    "    \"4A2B28E5-01AA-4670-B2E8-88A9F3971524\",\n",
    "    \"5C0E4249-43B5-4F56-B37C-3067AD4E1772\",\n",
    "    \"47E19D03-5698-4EB1-BC59-1ADB7E0FE408\",\n",
    "    \"5C8B7151-A2D7-49B1-89F3-A97250B49ED7\",\n",
    "    \"763746C4-5E3B-4CBD-A851-24E8893C06DC\",\n",
    "    \"33DCE134-F824-49AB-B7DD-EB2A467E2429\",\n",
    "    \"8DA5C30C-4AD9-491D-AE51-CD06F1DE9138\",\n",
    "    \"A6E47D2F-F63F-47AC-908F-A210C9A0B01C\",\n",
    "    \"7B7A39F3-9BEB-488C-8F4B-0C05137E4439\",\n",
    "    \"0215C566-BD0B-4AC6-A42D-650EC43A4BFD\",\n",
    "    \"5C6C9D37-DD00-4C8F-BF38-DBFF54984E24\",\n",
    "    \"8DF9414A-8A72-4D44-8081-73FC8071F849\",\n",
    "    \"D62BF9CC-A675-4218-93B5-D9B9DAAD1DD7\",\n",
    "    \"B5EBF228-75A3-470B-8FCC-7CB38DC15EB3\",\n",
    "    \"C6147775-02F8-445D-9032-B4E0AFAFD944\",\n",
    "    \"9D3CF77A-330A-4654-8403-046112D3DCAB\",\n",
    "    \"92880CE6-B949-47D6-8091-A85F1FA74B78\",\n",
    "    \"4E63A66D-B725-4478-BA9B-031ABAB88EA6\",\n",
    "    \"B6DEDFCE-D98E-4865-B18B-24A9D03E41D0\",\n",
    "    \"26E2331E-AF53-41C9-80DB-1CCEA0B2ACAA\",\n",
    "    \"D179CCB4-F30C-4AA1-B232-0F0FB7C3C68D\",\n",
    "    \"0DC645B9-BF9D-432F-84A9-A7B5CAF5E20F\",\n",
    "    \"66434D71-6A0A-4069-BB47-1274370C232E\",\n",
    "    \"94F87054-2EB9-484C-825D-29BDD49AF06A\",\n",
    "    \"9620361F-0269-424E-A30D-08A71325FAAA\",\n",
    "    \"9D07A07E-0D59-4A23-B3EE-B4C36FB24BBD\",\n",
    "    \"EDB63121-F5CE-4661-B852-7F8DC9C77EA4\",\n",
    "    \"741F6AB7-776D-4A97-B5BC-B83C98278E6B\",\n",
    "    \"7C68E3C9-0A7B-437E-9A43-543475890584\",\n",
    "    \"D50B2826-B70D-44CA-B5CA-6482509D69EB\",\n",
    "    \"7E208929-FF95-4B97-95F4-E048EE94FF92\",\n",
    "    \"B4F82715-DC70-47AE-B584-4D0FC1E21D90\",\n",
    "    \"8689958A-4C72-4332-8BB6-1956C69B1A98\",\n",
    "    \"F418463C-6EFA-47F3-9582-5DBBA2AADF4D\",\n",
    "    \"7695B0EA-5A06-46B6-B952-106543738BE0\",\n",
    "    \"BA197AE9-4019-4C1F-AC8A-95E05A008880\",\n",
    "    \"D6B12778-0665-407D-BB96-9BE49BB32474\",\n",
    "    \"CCA2FE36-8C06-4F0C-87B3-3053EF01E6AD\",\n",
    "    \"8DA8B16F-A3EE-4F41-80B8-4A260DEFD7BA\",\n",
    "    \"A23CF69D-825C-48C8-AEE5-55BE2781D6C4\",\n",
    "    \"25336050-331F-4159-9743-69BEB3C451D1\",\n",
    "    \"EE28F4C5-8CB2-4DBC-B689-816107266571\",\n",
    "    \"CE3E5865-F2F3-4E83-9D0F-529AEB615682\",\n",
    "    \"D459EAD3-779D-450F-9DE0-656025AD7F63\",\n",
    "    \"5BD1AAE1-2FE9-4D22-8C91-24E7E47360BA\",\n",
    "    \"C2F69EC5-9AC2-40B6-AD45-3801EA4E710D\",\n",
    "    \"8508682C-01D2-4478-95BB-6E3F6BBA0D41\",\n",
    "    \"77B3794C-7FA3-4262-B6FA-F13F5C2CA83C\"\n",
    "]"
   ]
  },
  {
   "cell_type": "code",
   "execution_count": 5,
   "id": "b18483a3-3027-4ee7-9f80-fa677e12ddaf",
   "metadata": {},
   "outputs": [
    {
     "name": "stdout",
     "output_type": "stream",
     "text": [
      "2023-01-01T00:00:00\n"
     ]
    }
   ],
   "source": [
    "import datetime\n",
    "# minute resolution data\n",
    "start = datetime.datetime(2020, 1, 1)\n",
    "end = datetime.datetime(2023, 1, 1)\n",
    "train_dates = []\n",
    "for delta in range((end - start).days + 1):\n",
    "    result_date = start + datetime.timedelta(days=delta)\n",
    "    result_date = result_date.isoformat()\n",
    "    train_dates.append(result_date)\n",
    "print(train_dates[-1])"
   ]
  },
  {
   "cell_type": "code",
   "execution_count": 115,
   "id": "d63fcf39-8305-4771-937e-d7a16ab23412",
   "metadata": {},
   "outputs": [
    {
     "name": "stdout",
     "output_type": "stream",
     "text": [
      "2023-08-28T00:00:00\n"
     ]
    }
   ],
   "source": [
    "# minute resolution data in 2023 for simulation\n",
    "start = datetime.datetime(2023, 1, 1)\n",
    "end = datetime.datetime(2023, 8, 28)\n",
    "test_dates = []\n",
    "for delta in range((end - start).days + 1):\n",
    "    result_date = start + datetime.timedelta(days=delta)\n",
    "    result_date = result_date.isoformat()\n",
    "    test_dates.append(result_date)\n",
    "print(test_dates[-1])"
   ]
  },
  {
   "cell_type": "code",
   "execution_count": 6,
   "id": "cd8d03b0-2269-4406-9e1d-73b15821eb29",
   "metadata": {},
   "outputs": [
    {
     "name": "stdout",
     "output_type": "stream",
     "text": [
      "6049\n",
      "['2023-09-09T15:00:00', '2023-09-09T16:00:00', '2023-09-09T17:00:00', '2023-09-09T18:00:00', '2023-09-09T19:00:00', '2023-09-09T20:00:00', '2023-09-09T21:00:00', '2023-09-09T22:00:00', '2023-09-09T23:00:00', '2023-09-10T00:00:00']\n"
     ]
    }
   ],
   "source": [
    "import datetime\n",
    "# second resolution data for simulation\n",
    "start = datetime.datetime(2023, 1, 1)\n",
    "end = datetime.datetime(2023, 9, 10)\n",
    "second_dates = []\n",
    "for delta in range(int((end - start).days*24 + 1)):\n",
    "    result_date = start + datetime.timedelta(hours=delta)\n",
    "    result_date = result_date.isoformat()\n",
    "    second_dates.append(result_date)\n",
    "print(len(second_dates))\n",
    "print(second_dates[-10:])"
   ]
  },
  {
   "cell_type": "code",
   "execution_count": 140,
   "id": "5fb079a2-a937-45dd-8a65-30b6d7bc4185",
   "metadata": {},
   "outputs": [
    {
     "data": {
      "text/plain": [
       "239"
      ]
     },
     "execution_count": 140,
     "metadata": {},
     "output_type": "execute_result"
    }
   ],
   "source": [
    "(end - start).days"
   ]
  },
  {
   "cell_type": "code",
   "execution_count": 8,
   "id": "82ca2def-52d8-4f08-a4d3-a7c09733338d",
   "metadata": {},
   "outputs": [
    {
     "name": "stdout",
     "output_type": "stream",
     "text": [
      "Failed to fetch data. Status code: 429\n",
      "Failed to fetch data. Status code: 429\n",
      "Failed to fetch data. Status code: 429\n",
      "Failed to fetch data. Status code: 429\n",
      "Failed to fetch data. Status code: 429\n",
      "Failed to fetch data. Status code: 429\n",
      "Failed to fetch data. Status code: 429\n",
      "Failed to fetch data. Status code: 429\n",
      "Failed to fetch data. Status code: 429\n",
      "Failed to fetch data. Status code: 429\n",
      "Failed to fetch data. Status code: 429\n",
      "Failed to fetch data. Status code: 429\n",
      "Failed to fetch data. Status code: 429\n",
      "Failed to fetch data. Status code: 429\n",
      "Failed to fetch data. Status code: 429\n",
      "Failed to fetch data. Status code: 429\n",
      "Failed to fetch data. Status code: 429\n",
      "Failed to fetch data. Status code: 429\n",
      "Failed to fetch data. Status code: 429\n",
      "Failed to fetch data. Status code: 429\n",
      "Failed to fetch data. Status code: 429\n",
      "Failed to fetch data. Status code: 429\n",
      "Failed to fetch data. Status code: 429\n",
      "Failed to fetch data. Status code: 429\n",
      "Failed to fetch data. Status code: 429\n",
      "Failed to fetch data. Status code: 429\n",
      "Failed to fetch data. Status code: 429\n",
      "Failed to fetch data. Status code: 429\n",
      "Failed to fetch data. Status code: 429\n",
      "Failed to fetch data. Status code: 429\n",
      "Failed to fetch data. Status code: 429\n",
      "Failed to fetch data. Status code: 503\n",
      "Failed to fetch data. Status code: 429\n",
      "Failed to fetch data. Status code: 429\n",
      "Failed to fetch data. Status code: 429\n",
      "Failed to fetch data. Status code: 429\n",
      "Failed to fetch data. Status code: 429\n",
      "Failed to fetch data. Status code: 429\n",
      "Failed to fetch data. Status code: 429\n",
      "Failed to fetch data. Status code: 429\n",
      "Failed to fetch data. Status code: 429\n",
      "Failed to fetch data. Status code: 429\n",
      "Failed to fetch data. Status code: 429\n",
      "Failed to fetch data. Status code: 429\n",
      "Failed to fetch data. Status code: 429\n",
      "Failed to fetch data. Status code: 429\n",
      "Failed to fetch data. Status code: 429\n",
      "Failed to fetch data. Status code: 429\n",
      "Failed to fetch data. Status code: 429\n",
      "Failed to fetch data. Status code: 429\n",
      "Failed to fetch data. Status code: 429\n",
      "Failed to fetch data. Status code: 429\n",
      "Failed to fetch data. Status code: 429\n",
      "Failed to fetch data. Status code: 429\n",
      "Failed to fetch data. Status code: 429\n",
      "Failed to fetch data. Status code: 429\n",
      "Failed to fetch data. Status code: 429\n",
      "Failed to fetch data. Status code: 429\n",
      "Failed to fetch data. Status code: 429\n",
      "Failed to fetch data. Status code: 429\n",
      "Failed to fetch data. Status code: 429\n",
      "Failed to fetch data. Status code: 429\n",
      "Failed to fetch data. Status code: 429\n",
      "Failed to fetch data. Status code: 429\n",
      "Failed to fetch data. Status code: 429\n",
      "Failed to fetch data. Status code: 429\n",
      "Failed to fetch data. Status code: 429\n",
      "Failed to fetch data. Status code: 429\n",
      "Failed to fetch data. Status code: 429\n",
      "Failed to fetch data. Status code: 429\n",
      "Failed to fetch data. Status code: 429\n",
      "Failed to fetch data. Status code: 429\n"
     ]
    },
    {
     "ename": "IndexError",
     "evalue": "list index out of range",
     "output_type": "error",
     "traceback": [
      "\u001b[1;31m---------------------------------------------------------------------------\u001b[0m",
      "\u001b[1;31mIndexError\u001b[0m                                Traceback (most recent call last)",
      "Cell \u001b[1;32mIn[8], line 27\u001b[0m\n\u001b[0;32m     25\u001b[0m \u001b[38;5;28;01mif\u001b[39;00m data \u001b[38;5;129;01mis\u001b[39;00m \u001b[38;5;28;01mNone\u001b[39;00m:\n\u001b[0;32m     26\u001b[0m     key_index \u001b[38;5;241m+\u001b[39m\u001b[38;5;241m=\u001b[39m\u001b[38;5;241m1\u001b[39m\n\u001b[1;32m---> 27\u001b[0m     key \u001b[38;5;241m=\u001b[39m \u001b[43mkeys\u001b[49m\u001b[43m[\u001b[49m\u001b[43mkey_index\u001b[49m\u001b[43m]\u001b[49m\n\u001b[0;32m     28\u001b[0m     data \u001b[38;5;241m=\u001b[39m  fetch_ohlcv(url, key)\n\u001b[0;32m     29\u001b[0m \u001b[38;5;28;01mfor\u001b[39;00m datapoint \u001b[38;5;129;01min\u001b[39;00m data:\n",
      "\u001b[1;31mIndexError\u001b[0m: list index out of range"
     ]
    }
   ],
   "source": [
    "\n",
    "# Calculate the differences using range()\n",
    "exchange = \"BINANCEFTS\"\n",
    "limit = 4000\n",
    "period = \"1SEC\"\n",
    "key_index = 0\n",
    "start_flag = False\n",
    "data_t_start = []\n",
    "data_t_end = []\n",
    "data_price_open = []\n",
    "data_price_high = []\n",
    "data_price_low = []\n",
    "data_price_close = []\n",
    "data_volume = []\n",
    "key = keys[0]\n",
    "#last_date = np.load(\"data/BINANCE_PERP_2023_1SEC_t_start.npy\")[-1]\n",
    "dates = second_dates\n",
    "for tt in range(len(dates)-1):\n",
    "    time_start = dates[tt]\n",
    "    time_end = dates[tt+1]\n",
    "    #if time_start[5:7]==last_date[5:7] and time_start[8:10]==last_date[8:10]:\n",
    "    start_flag = True\n",
    "    if start_flag:\n",
    "        url = f'https://rest.coinapi.io/v1/ohlcv/{exchange}_PERP_BTC_USDT/history?period_id={period}&time_start={time_start}&time_end={time_end}&limit={limit}'\n",
    "        data = fetch_ohlcv(url, key)\n",
    "        if data is None:\n",
    "            key_index +=1\n",
    "            key = keys[key_index]\n",
    "            data =  fetch_ohlcv(url, key)\n",
    "        for datapoint in data:\n",
    "            data_t_start.append(datapoint[\"time_period_start\"])\n",
    "            data_t_end.append(datapoint[\"time_period_end\"])\n",
    "            data_price_open.append(datapoint[\"price_open\"])\n",
    "            data_price_high.append(datapoint[\"price_high\"])\n",
    "            data_price_low.append(datapoint[\"price_low\"])\n",
    "            data_price_close.append(datapoint[\"price_close\"])\n",
    "            data_volume.append(datapoint[\"volume_traded\"])"
   ]
  },
  {
   "cell_type": "code",
   "execution_count": 43,
   "id": "2d731922-579e-44b3-b98a-62c51a796baa",
   "metadata": {},
   "outputs": [],
   "source": [
    "data_t_start_old = np.load(\"data/BINANCE_PERP_2023_1SEC_t_start.npy\")\n",
    "data_t_end_old = np.load(\"data/BINANCE_PERP_2023_1SEC_t_end.npy\")\n",
    "data_price_open_old = np.load(\"data/BINANCE_PERP_2023_1SEC_open.npy\")\n",
    "data_price_high_old = np.load(\"data/BINANCE_PERP_2023_1SEC_high.npy\")\n",
    "data_price_low_old = np.load(\"data/BINANCE_PERP_2023_1SEC_low.npy\")\n",
    "data_price_close_old = np.load(\"data/BINANCE_PERP_2023_1SEC_close.npy\")\n",
    "data_volume_old = np.load(\"data/BINANCE_PERP_2023_1SEC_volume.npy\")"
   ]
  },
  {
   "cell_type": "code",
   "execution_count": 12,
   "id": "fd45a916-0e63-4dd9-a4bd-8956441da0bf",
   "metadata": {},
   "outputs": [
    {
     "name": "stdout",
     "output_type": "stream",
     "text": [
      "2023-06-23T13:59:59.0000000Z\n"
     ]
    }
   ],
   "source": [
    "\n",
    "print(data_t_start[-1])"
   ]
  },
  {
   "cell_type": "code",
   "execution_count": 53,
   "id": "445dac57-cc6f-427d-986b-e5b0368ec2b0",
   "metadata": {},
   "outputs": [],
   "source": [
    "data_t_start_new = np.concatenate((data_t_start_old, data_t_start[2716:]))\n",
    "data_t_end_new = np.concatenate((data_t_end_old, data_t_end[2716:]))\n",
    "data_price_open_new = np.concatenate((data_price_open_old, data_price_open[2716:]))\n",
    "data_price_high_new = np.concatenate((data_price_high_old, data_price_high[2716:]))\n",
    "data_price_low_new = np.concatenate((data_price_low_old, data_price_low[2716:]))\n",
    "data_price_close_new = np.concatenate((data_price_close_old, data_price_close[2716:]))\n",
    "data_volume_new = np.concatenate((data_volume_old, data_volume[2716:]))"
   ]
  },
  {
   "cell_type": "code",
   "execution_count": 9,
   "id": "278959bd-f0ca-4504-a4eb-3f5ac3c9069c",
   "metadata": {},
   "outputs": [],
   "source": [
    "np.save(\"data/BINANCE_PERP_2023_1SEC_t_start\", data_t_start)\n",
    "np.save(\"data/BINANCE_PERP_2023_1SEC_t_end\", data_t_end)\n",
    "np.save(\"data/BINANCE_PERP_2023_1SEC_open\", data_price_open)\n",
    "np.save(\"data/BINANCE_PERP_2023_1SEC_high\", data_price_high)\n",
    "np.save(\"data/BINANCE_PERP_2023_1SEC_low\", data_price_low)\n",
    "np.save(\"data/BINANCE_PERP_2023_1SEC_close\", data_price_close)\n",
    "np.save(\"data/BINANCE_PERP_2023_1SEC_volume\", data_volume)"
   ]
  },
  {
   "cell_type": "code",
   "execution_count": null,
   "id": "2a6f65f9-db21-4aba-9c65-b38bcca11f57",
   "metadata": {},
   "outputs": [],
   "source": [
    "close_data = np.load(\"data/BINANCE_PERP_close.npy\")\n",
    "low_data = np.load(\"data/BINANCE_PERP_low.npy\")\n",
    "high_data = np.load(\"data/BINANCE_PERP_high.npy\")\n"
   ]
  },
  {
   "cell_type": "code",
   "execution_count": 56,
   "id": "7f71bd49-e353-48b8-b9d4-5b1f7a0526ea",
   "metadata": {},
   "outputs": [
    {
     "name": "stdout",
     "output_type": "stream",
     "text": [
      "1570435 2020-01-01T00:00:00.0000000Z 2022-12-31T23:59:00.0000000Z\n"
     ]
    }
   ],
   "source": [
    "start_data = np.load(\"data/BINANCE_PERP_t_start.npy\")\n",
    "print(len(start_data), start_data[0], start_data[-1])"
   ]
  },
  {
   "cell_type": "code",
   "execution_count": 186,
   "id": "a35bf566-5747-4614-ac22-7545fe42141f",
   "metadata": {},
   "outputs": [
    {
     "data": {
      "text/plain": [
       "'print(len(close_data))\\nprint(int(0.8*len(close_data)))\\nprint(int(0.2*len(close_data)))\\nprint(int(0.8*len(close_data))+int(0.2*len(close_data)))'"
      ]
     },
     "execution_count": 186,
     "metadata": {},
     "output_type": "execute_result"
    }
   ],
   "source": [
    "data_vol = np.load(\"data/BINANCE_PERP_volume.npy\")\n",
    "np.save(\"data/BINANCE_PERP_volume_train\", data_vol[:int(0.8*len(data_vol))])\n",
    "np.save(\"data/BINANCE_PERP_volume_test\", data_vol[int(0.8*len(data_vol)):])\n",
    "'''print(len(close_data))\n",
    "print(int(0.8*len(close_data)))\n",
    "print(int(0.2*len(close_data)))\n",
    "print(int(0.8*len(close_data))+int(0.2*len(close_data)))'''"
   ]
  },
  {
   "cell_type": "code",
   "execution_count": 191,
   "id": "5398881f-3e51-4896-9f8a-f6eec112dac4",
   "metadata": {},
   "outputs": [
    {
     "name": "stdout",
     "output_type": "stream",
     "text": [
      "tensor(536.9100, dtype=torch.float64)\n"
     ]
    },
    {
     "data": {
      "image/png": "[encoded data removed]",
      "text/plain": [
       "<Figure size 640x480 with 1 Axes>"
      ]
     },
     "metadata": {},
     "output_type": "display_data"
    }
   ],
   "source": [
    "import torch\n",
    "data_train = np.load(\"data/BINANCE_PERP_volume_train.npy\")\n",
    "data_test = np.load(\"data/BINANCE_PERP_volume_test.npy\")\n",
    "plt.plot(data_train)\n",
    "print(torch.max(torch.tensor(data_train[0:720])))"
   ]
  },
  {
   "cell_type": "code",
   "execution_count": null,
   "id": "a3f271e3-d5c9-423a-8b85-684861086190",
   "metadata": {},
   "outputs": [],
   "source": []
  },
  {
   "cell_type": "code",
   "execution_count": 99,
   "id": "4fb0d096-55a3-4ad8-9ed4-6d8dadbb7bbb",
   "metadata": {},
   "outputs": [
    {
     "name": "stdout",
     "output_type": "stream",
     "text": [
      "<class 'list'>\n",
      "<class 'list'>\n",
      "Failed to fetch data. Status code: 429\n",
      "<class 'NoneType'>\n",
      "success\n"
     ]
    },
    {
     "ename": "TypeError",
     "evalue": "'NoneType' object is not iterable",
     "output_type": "error",
     "traceback": [
      "\u001b[1;31m---------------------------------------------------------------------------\u001b[0m",
      "\u001b[1;31mTypeError\u001b[0m                                 Traceback (most recent call last)",
      "Cell \u001b[1;32mIn[99], line 17\u001b[0m\n\u001b[0;32m     15\u001b[0m \u001b[38;5;28;01mif\u001b[39;00m data \u001b[38;5;129;01mis\u001b[39;00m \u001b[38;5;28;01mNone\u001b[39;00m:\n\u001b[0;32m     16\u001b[0m     \u001b[38;5;28mprint\u001b[39m(\u001b[38;5;124m\"\u001b[39m\u001b[38;5;124msuccess\u001b[39m\u001b[38;5;124m\"\u001b[39m)\n\u001b[1;32m---> 17\u001b[0m \u001b[38;5;28;01mfor\u001b[39;00m datapoint \u001b[38;5;129;01min\u001b[39;00m data:\n\u001b[0;32m     18\u001b[0m     data_t_start\u001b[38;5;241m.\u001b[39mappend(datapoint[\u001b[38;5;124m\"\u001b[39m\u001b[38;5;124mtime_period_start\u001b[39m\u001b[38;5;124m\"\u001b[39m])\n\u001b[0;32m     19\u001b[0m     data_t_end\u001b[38;5;241m.\u001b[39mappend(datapoint[\u001b[38;5;124m\"\u001b[39m\u001b[38;5;124mtime_period_end\u001b[39m\u001b[38;5;124m\"\u001b[39m])\n",
      "\u001b[1;31mTypeError\u001b[0m: 'NoneType' object is not iterable"
     ]
    }
   ],
   "source": [
    "data_t_start = []\n",
    "data_t_end = []\n",
    "data_price_open = []\n",
    "data_price_high = []\n",
    "data_price_low = []\n",
    "data_price_close = []\n",
    "data_volume = []\n",
    "key = \"67655C43-1D0F-475E-84B4-514065ACF468\"\n",
    "for tt in range(len(train_dates)-1):\n",
    "    time_start = train_dates[tt]\n",
    "    time_end = train_dates[tt+1]\n",
    "    url = f'https://rest.coinapi.io/v1/ohlcv/{exchange}_PERP_BTC_USDT/history?period_id=1MIN&time_start={time_start}&time_end={time_end}&limit={limit}'\n",
    "    data = fetch_ohlcv(url, key)\n",
    "    print(type(data))\n",
    "    if data is None:\n",
    "        print(\"success\")\n",
    "    for datapoint in data:\n",
    "        data_t_start.append(datapoint[\"time_period_start\"])\n",
    "        data_t_end.append(datapoint[\"time_period_end\"])\n",
    "        data_price_open.append(datapoint[\"price_open\"])\n",
    "        data_price_high.append(datapoint[\"price_high\"])\n",
    "        data_price_low.append(datapoint[\"price_low\"])\n",
    "        data_price_close.append(datapoint[\"price_close\"])\n",
    "        data_volume.append(datapoint[\"volume_traded\"])"
   ]
  },
  {
   "cell_type": "code",
   "execution_count": 123,
   "id": "14c31975-a5f0-46f8-b23c-b81c67613098",
   "metadata": {},
   "outputs": [
    {
     "name": "stdout",
     "output_type": "stream",
     "text": [
      "631954\n"
     ]
    }
   ],
   "source": [
    "print(len(data_price_open))"
   ]
  },
  {
   "cell_type": "code",
   "execution_count": 102,
   "id": "ac64644a-321d-489c-990a-bbd5163b8ae1",
   "metadata": {},
   "outputs": [
    {
     "name": "stdout",
     "output_type": "stream",
     "text": [
      "2020-01-01T00:00:00.0000000Z 2022-12-31T23:59:00.0000000Z\n"
     ]
    }
   ],
   "source": [
    "print(data_t_start[0], data_t_start[-1])"
   ]
  },
  {
   "cell_type": "code",
   "execution_count": 49,
   "id": "2ff618f9-3424-4f80-bd84-15bbc5b716e9",
   "metadata": {},
   "outputs": [
    {
     "data": {
      "text/plain": [
       "[<matplotlib.lines.Line2D at 0x206195f6370>]"
      ]
     },
     "execution_count": 49,
     "metadata": {},
     "output_type": "execute_result"
    },
    {
     "data": {
      "image/png": "[encoded data removed]",
      "text/plain": [
       "<Figure size 640x480 with 1 Axes>"
      ]
     },
     "metadata": {},
     "output_type": "display_data"
    }
   ],
   "source": [
    "import matplotlib.pyplot as plt\n",
    "plt.plot(data_open)"
   ]
  },
  {
   "cell_type": "code",
   "execution_count": null,
   "id": "e8ce51c3",
   "metadata": {},
   "outputs": [],
   "source": [
    "import bitfinex\n",
    "import numpy as np\n",
    "import os\n",
    "api_v2 = bitfinex.bitfinex_v2.api_v2()"
   ]
  },
  {
   "cell_type": "code",
   "execution_count": null,
   "id": "debb65f4",
   "metadata": {},
   "outputs": [],
   "source": [
    "result = api_v2.candles()\n",
    "print(len(result))"
   ]
  },
  {
   "cell_type": "code",
   "execution_count": null,
   "id": "3f95e40b",
   "metadata": {},
   "outputs": [],
   "source": [
    "import bitfinex\n",
    "import datetime\n",
    "import time\n",
    "import pandas as pd\n",
    "\n",
    "# Create api instance of the v2 API\n",
    "api_v2 = bitfinex.bitfinex_v2.api_v2()\n",
    "\n",
    "# Define query parameters\n",
    "pair = 'BTCUSD' # Currency pair of interest\n",
    "TIMEFRAME = '1m'#,'4h','1h','15m','1m'\n",
    "mins = 1\n",
    "# Define the start date\n",
    "t_start = datetime.datetime(2019, 1, 1, 0, 0)\n",
    "print(t_start)\n",
    "t_start_ms = time.mktime(t_start.timetuple())*1000\n",
    "print(t_start)\n",
    "\n",
    "# Define the end date\n",
    "t_stop = datetime.datetime(2023, 1, 1, 0, 0)\n",
    "t_stop_ms = time.mktime(t_stop.timetuple())*1000\n",
    "\n",
    "interval = (t_stop_ms-t_start_ms)/(1000*60*mins)\n",
    "t_lim = t_start_ms+10000*1000*mins*60\n",
    "\n",
    "all_data = []\n",
    "# Download OHCL data from API\n",
    "for tt in range(int((interval-interval%10000)/10000)):\n",
    "    print(tt)\n",
    "    if tt%40==39:\n",
    "        time.sleep(60)\n",
    "    result = api_v2.candles(symbol=pair, interval=TIMEFRAME, limit=10000, start=t_start_ms, end=t_lim)\n",
    "    # Convert list of data to pandas dataframe\n",
    "    names = ['Date', 'Open', 'Close', 'High', 'Low', 'Volume']\n",
    "    df = pd.DataFrame(result, columns=names)\n",
    "    df['Date'] = pd.to_datetime(df['Date'], unit='ms')\n",
    "    #print(df)\n",
    "\n",
    "    # we can plot our downloaded data\n",
    "    import matplotlib.pyplot as plt\n",
    "    #plt.plot(df['Open'],'-')\n",
    "    #plt.show()\n",
    "    t_start_ms += 10000*1000*mins*60\n",
    "    t_lim += 10000*1000*mins*60\n",
    "    price_data = df[\"Close\"].to_numpy()[:0:-1]\n",
    "    print(price_data.shape)\n",
    "    \n",
    "    print(price_data[0],price_data[-1])\n",
    "    all_data.append(price_data)\n",
    "data = np.concatenate(all_data)\n",
    "print(data[0], data[-1])"
   ]
  },
  {
   "cell_type": "code",
   "execution_count": null,
   "id": "c2b42d86",
   "metadata": {},
   "outputs": [],
   "source": [
    "print(data.shape)\n",
    "if not os.path.exists(\"data\"):\n",
    "    os.makedirs(\"data\")\n",
    "file_n = \"data/{}_price_data___start_{}-{}-{}_stop_{}-{}-{}\".format(TIMEFRAME,t_start.year,t_start.month,t_start.day,t_stop.year,t_stop.month,t_stop.day)\n",
    "print(file_n)\n",
    "np.save(file_n, data)"
   ]
  },
  {
   "cell_type": "code",
   "execution_count": null,
   "id": "a60962a7",
   "metadata": {},
   "outputs": [],
   "source": [
    "import matplotlib.pyplot as plt\n",
    "plt.plot(data)"
   ]
  },
  {
   "cell_type": "code",
   "execution_count": 2,
   "id": "8546f68b",
   "metadata": {},
   "outputs": [],
   "source": [
    "### train test-split data ###\n",
    "all_data = np.load(\"data/5m_price_data___start_2019-1-1_stop_2023-1-1.npy\")\n",
    "data_size = len(all_data)\n",
    "np.save(\"data/train5m.npy\", all_data[:int(data_size*0.8)])\n",
    "np.save(\"data/test5m.npy\", all_data[int(data_size*0.8):])"
   ]
  },
  {
   "cell_type": "code",
   "execution_count": 1,
   "id": "5bf63ffa",
   "metadata": {},
   "outputs": [],
   "source": [
    "import cryptowatch as cw\n",
    "import requests"
   ]
  },
  {
   "cell_type": "code",
   "execution_count": 2,
   "id": "b20d429f-a99c-408d-adc7-576b4fdc87a0",
   "metadata": {},
   "outputs": [
    {
     "name": "stdout",
     "output_type": "stream",
     "text": [
      "['__attrs__', '__bool__', '__class__', '__delattr__', '__dict__', '__dir__', '__doc__', '__enter__', '__eq__', '__exit__', '__format__', '__ge__', '__getattribute__', '__getstate__', '__gt__', '__hash__', '__init__', '__init_subclass__', '__iter__', '__le__', '__lt__', '__module__', '__ne__', '__new__', '__nonzero__', '__reduce__', '__reduce_ex__', '__repr__', '__setattr__', '__setstate__', '__sizeof__', '__str__', '__subclasshook__', '__weakref__', '_content', '_content_consumed', '_next', 'apparent_encoding', 'close', 'connection', 'content', 'cookies', 'elapsed', 'encoding', 'headers', 'history', 'is_permanent_redirect', 'is_redirect', 'iter_content', 'iter_lines', 'json', 'links', 'next', 'ok', 'raise_for_status', 'raw', 'reason', 'request', 'status_code', 'text', 'url']\n"
     ]
    }
   ],
   "source": [
    "cw.api_key = \"LIF27S2KESB9FRQL98KY\"\n",
    "\n",
    "# Assets\n",
    "url =  \"https://api.cryptowat.ch/markets/kraken/btceur/price\"\n",
    "resp = requests.get(url)\n",
    "print(dir(resp))"
   ]
  },
  {
   "cell_type": "code",
   "execution_count": null,
   "id": "9437f17f-60a3-416b-9188-9bf8d7ca4b48",
   "metadata": {},
   "outputs": [],
   "source": [
    "period = 86400\n",
    "before = 1693260000\n",
    "after = 1490840800\n",
    "url = f\"https://api.cryptowat.ch/markets/BINANCE/BTCUSDT/ohlc\"\n",
    "payload = {'limit' : 100, 'before' : before, 'after' : after, 'periods' : period}\n",
    "#data = cw.markets.get(\"BINANCE:BTCUSDT\", ohlc=True, before=before, after=after, periods=[\"1m\"])\n",
    "data = requests.get(url, params=payload)\n",
    "#print(data.json())\n",
    "#print(data.json()['result']['price'])"
   ]
  },
  {
   "cell_type": "code",
   "execution_count": 41,
   "id": "19404be0-4eb4-4f99-8662-0bb596f0ca7c",
   "metadata": {},
   "outputs": [
    {
     "name": "stdout",
     "output_type": "stream",
     "text": [
      "<class 'requests.models.Response'>\n",
      "dict_keys(['result', 'allowance'])\n",
      "2035\n"
     ]
    }
   ],
   "source": [
    "\n",
    "print(type(data))\n",
    "print(data.json().keys())\n",
    "#print(len(data.json()[\"result\"][\"1440\"]))\n",
    "print(len(data.json()[\"result\"][\"86400\"]))"
   ]
  },
  {
   "cell_type": "code",
   "execution_count": null,
   "id": "f9afa6a9-ba8e-48c8-ac7a-46a0c08c7c25",
   "metadata": {},
   "outputs": [],
   "source": [
    "\n",
    "for min in data._http_response.json()['result']['60']:\n",
    "    print(min[0])"
   ]
  },
  {
   "cell_type": "code",
   "execution_count": null,
   "id": "9665753d-369b-4109-a5ca-4356121f2191",
   "metadata": {},
   "outputs": [],
   "source": []
  },
  {
   "cell_type": "code",
   "execution_count": null,
   "id": "c0700c31-cf60-4084-8a9d-19e5f58d2ab0",
   "metadata": {},
   "outputs": [],
   "source": []
  }
 ],
 "metadata": {
  "kernelspec": {
   "display_name": "Python 3 (ipykernel)",
   "language": "python",
   "name": "python3"
  },
  "language_info": {
   "codemirror_mode": {
    "name": "ipython",
    "version": 3
   },
   "file_extension": ".py",
   "mimetype": "text/x-python",
   "name": "python",
   "nbconvert_exporter": "python",
   "pygments_lexer": "ipython3",
   "version": "3.9.16"
  }
 },
 "nbformat": 4,
 "nbformat_minor": 5
}
